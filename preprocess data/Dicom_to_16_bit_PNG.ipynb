{
  "nbformat": 4,
  "nbformat_minor": 0,
  "metadata": {
    "kernelspec": {
      "display_name": "Python 3",
      "language": "python",
      "name": "python3"
    },
    "language_info": {
      "codemirror_mode": {
        "name": "ipython",
        "version": 3
      },
      "file_extension": ".py",
      "mimetype": "text/x-python",
      "name": "python",
      "nbconvert_exporter": "python",
      "pygments_lexer": "ipython3",
      "version": "3.8.5"
    },
    "colab": {
      "name": "Dicom to 16 bit PNG.ipynb",
      "provenance": []
    }
  },
  "cells": [
    {
      "cell_type": "code",
      "metadata": {
        "id": "AEnmn74eKYFZ"
      },
      "source": [
        "import png\n",
        "def dicom_to_png(d,filename):\n",
        "    with open(\"D:/Downloads/Inuaid/vinbig_png/\"+filename+\".png\",\"wb\") as f:\n",
        "        writer=png.Writer(width=d.shape[1],height=d.shape[0],greyscale=True,bitdepth=12)\n",
        "        writer.write(f,d)"
      ],
      "execution_count": null,
      "outputs": []
    },
    {
      "cell_type": "code",
      "metadata": {
        "id": "71b-daCBKYFx"
      },
      "source": [
        "import pydicom \n",
        "import os\n",
        "import cv2\n",
        "import matplotlib.pyplot as plt\n",
        "import png\n",
        "import numpy as np\n",
        "datadir = \"C:/Users/MSI/Zoho WorkDrive (InuAid Solutions)/X-ray Monitoring Covid-19/Development/Vin-Big_Datasets/train/\"\n",
        "files = [f for f in os.listdir(datadir)]\n",
        "for imgs in files:\n",
        "    f=pydicom.read_file(os.path.join(datadir,imgs))\n",
        "    d=f.pixel_array\n",
        "    if(f[0x0028, 0x0004].value=='MONOCHROME1'):\n",
        "        d = np.amax(d) - d\n",
        "    d = d - np.min(d)\n",
        "    d = d / np.max(d)\n",
        "    d = (d * 65535).astype(np.uint16)\n",
        "    d=cv2.resize(d,(1024,1024))\n",
        "    filename=imgs.split('.')[0]\n",
        "    #plt.imshow(d,cmap='gray')\n",
        "    #plt.show()\n",
        "    png.from_array(d,'L;16').save(\"D:/Downloads/Inuaid/vinbig_png/\"+filename+\".png\")"
      ],
      "execution_count": null,
      "outputs": []
    }
  ]
}